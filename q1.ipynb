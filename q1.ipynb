{
 "cells": [
  {
   "cell_type": "markdown",
   "metadata": {},
   "source": [
    "**Problem Statement:**\n",
    "Implement an algorithm to evaluate q(A, B, C) :- R1(A, B), R2(B, C). Assume that each attribute has domain Z (the set of integer numbers). A common approach is to use hashing. For example, we can hash the tuples of R2 using the values in attribute B as keys and maintain a list of tuples in R2 that satisfy each key. Then, for each tuple t' in R1, we query the hashmap using π_B(t') and report all tuples in R2 that can be joined with R1. We report all the resulting join tuples.\n",
    "\n",
    "Create a dataset with 10 tuples in R1 and 10 tuples in R2. Run your algorithm and explain why it is correct.\n",
    "\n",
    "**Solution:**\n",
    "\n",
    "1. **Dataset Creation:**\n",
    "Let's create a sample dataset with 10 tuples each in R1 and R2.\n",
    "\n",
    "R1:\n",
    "(1, 2)\n",
    "(3, 4)\n",
    "(5, 6)\n",
    "(7, 8)\n",
    "(9, 10)\n",
    "(11, 12)\n",
    "(13, 14)\n",
    "(15, 16)\n",
    "(17, 18)\n",
    "(19, 20)\n",
    "\n",
    "R2:\n",
    "(2, 21)\n",
    "(4, 22)\n",
    "(6, 23)\n",
    "(8, 24)\n",
    "(10, 25)\n",
    "(12, 26)\n",
    "(14, 27)\n",
    "(16, 28)\n",
    "(18, 29)\n",
    "(20, 30)"
   ]
  },
  {
   "cell_type": "code",
   "execution_count": 2,
   "metadata": {},
   "outputs": [],
   "source": [
    "R1 = [\n",
    "    (1, 2),\n",
    "    (3, 4),\n",
    "    (5, 6),\n",
    "    (7, 8),\n",
    "    (9, 10),\n",
    "    (11, 12),\n",
    "    (13, 14),\n",
    "    (15, 16),\n",
    "    (17, 18),\n",
    "    (19, 20)\n",
    "]\n",
    "\n",
    "R2 = [\n",
    "    (2, 21),\n",
    "    (4, 22),\n",
    "    (6, 23),\n",
    "    (8, 24),\n",
    "    (10, 25),\n",
    "    (12, 26),\n",
    "    (14, 27),\n",
    "    (16, 28),\n",
    "    (18, 29),\n",
    "    (20, 30)\n",
    "]"
   ]
  },
  {
   "cell_type": "markdown",
   "metadata": {},
   "source": [
    "2. **Algorithm Implementation:**\n",
    "We will use a hash table to store the tuples of R2, with the values of attribute B as keys and the corresponding tuples as values."
   ]
  },
  {
   "cell_type": "code",
   "execution_count": 3,
   "metadata": {},
   "outputs": [],
   "source": [
    "# Create a hash table to store R2 tuples\n",
    "hash_table = {}\n",
    "\n",
    "# Populate the hash table\n",
    "for tup in R2:\n",
    "    key = tup[0]  # Value of attribute B\n",
    "    if key in hash_table:\n",
    "        hash_table[key].append(tup)\n",
    "    else:\n",
    "        hash_table[key] = [tup]"
   ]
  },
  {
   "cell_type": "code",
   "execution_count": 4,
   "metadata": {},
   "outputs": [],
   "source": [
    "# Perform the join\n",
    "result = []\n",
    "for tup in R1:\n",
    "    key = tup[-1]  # Value of attribute B\n",
    "    if key in hash_table:\n",
    "        for r2_tup in hash_table[key]:\n",
    "            result.append(tup + (r2_tup[-1],))"
   ]
  },
  {
   "cell_type": "code",
   "execution_count": 5,
   "metadata": {},
   "outputs": [
    {
     "data": {
      "text/plain": [
       "[(1, 2, 21),\n",
       " (3, 4, 22),\n",
       " (5, 6, 23),\n",
       " (7, 8, 24),\n",
       " (9, 10, 25),\n",
       " (11, 12, 26),\n",
       " (13, 14, 27),\n",
       " (15, 16, 28),\n",
       " (17, 18, 29),\n",
       " (19, 20, 30)]"
      ]
     },
     "execution_count": 5,
     "metadata": {},
     "output_type": "execute_result"
    }
   ],
   "source": [
    "result"
   ]
  },
  {
   "cell_type": "markdown",
   "metadata": {},
   "source": [
    "**Time Complexity Analysis:**\n",
    "\n",
    "Creating the hash table:\n",
    "\n",
    "Iterating over all tuples in R2 to create the hash table takes O(n) time, where n is the number of tuples in R2.\n",
    "\n",
    "Performing the join:\n",
    "\n",
    "Iterating over all tuples in R1 takes O(m) time, where m is the number of tuples in R1.\n",
    "For each tuple in R1, performing a lookup in the hash table takes amortized constant time, O(1).\n",
    "Joining the tuples from R1 and R2 takes constant time, O(1).\n",
    "Therefore, the overall time complexity of the join operation is O(m).\n",
    "\n",
    "\n",
    "\n",
    "The overall time complexity of Our solution is O(m + n), where m is the number of tuples in R1, and n is the number of tuples in R2. This is because creating the hash table takes O(n) time, and performing the join takes O(m) time.\n",
    "\n",
    "**Correctness Explanation:**\n",
    "\n",
    "The algorithm is correct because it correctly evaluates the join query q(A, B, C) :- R1(A, B), R2(B, C) by iterating over the tuples of R1 and checking if the corresponding value of attribute B exists as a key in the hash table constructed from R2. If a match is found, all tuples in R2 with that value of attribute B are joined with the current tuple from R1 to produce the resulting tuples.\n",
    "\n",
    "The time complexity of this algorithm is O(m + n), where m is the number of tuples in R1, and n is the number of tuples in R2. This is because we iterate over R1 once (O(m)) and perform constant-time lookups in the hash table for each tuple in R1 (amortized O(1) time for each lookup). The space complexity is O(n) since we store all tuples of R2 in the hash table.\n",
    "\n",
    "**Output:**\n",
    "Running the algorithm on the given dataset will produce the following result:\n",
    "\n",
    "```\n",
    "(1, 2, 21)\n",
    "(3, 4, 22)\n",
    "(5, 6, 23)\n",
    "(7, 8, 24)\n",
    "(9, 10, 25)\n",
    "(11, 12, 26)\n",
    "(13, 14, 27)\n",
    "(15, 16, 28)\n",
    "(17, 18, 29)\n",
    "(19, 20, 30)\n",
    "```\n",
    "\n",
    "This result correctly represents the join of R1 and R2 based on the condition q(A, B, C) :- R1(A, B), R2(B, C)."
   ]
  },
  {
   "cell_type": "code",
   "execution_count": null,
   "metadata": {},
   "outputs": [],
   "source": []
  }
 ],
 "metadata": {
  "kernelspec": {
   "display_name": "base",
   "language": "python",
   "name": "python3"
  },
  "language_info": {
   "codemirror_mode": {
    "name": "ipython",
    "version": 3
   },
   "file_extension": ".py",
   "mimetype": "text/x-python",
   "name": "python",
   "nbconvert_exporter": "python",
   "pygments_lexer": "ipython3",
   "version": "3.11.5"
  }
 },
 "nbformat": 4,
 "nbformat_minor": 2
}
