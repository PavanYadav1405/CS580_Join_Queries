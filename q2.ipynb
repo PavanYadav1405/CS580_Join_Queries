{
 "cells": [
  {
   "cell_type": "markdown",
   "metadata": {},
   "source": [
    "## k-line joins"
   ]
  },
  {
   "cell_type": "markdown",
   "metadata": {},
   "source": [
    "### First we will try to implement the 4-line join specified in the Probplem statement"
   ]
  },
  {
   "cell_type": "code",
   "execution_count": 2,
   "metadata": {},
   "outputs": [],
   "source": [
    "def semijoin(relation1, relation2, key1, key2):\n",
    "    \"\"\" Reduce relation1 by performing a semijoin with relation2 on specified keys. \"\"\"\n",
    "    filter_set = {t[key2] for t in relation2}\n",
    "    return [t for t in relation1 if t[key1] in filter_set]"
   ]
  },
  {
   "cell_type": "code",
   "execution_count": 3,
   "metadata": {},
   "outputs": [],
   "source": [
    "def join(relation1, relation2, key1, key2):\n",
    "    \"\"\" Join two relations on specified keys, handling duplicates appropriately. \"\"\"\n",
    "    index = {}\n",
    "    # Create an index for the second relation on the join key\n",
    "    for t in relation2:\n",
    "        if t[key2] in index:\n",
    "            index[t[key2]].append(t)\n",
    "        else:\n",
    "            index[t[key2]] = [t]\n",
    "    \n",
    "    # Perform the join\n",
    "    result = []\n",
    "    for t1 in relation1:\n",
    "        if t1[key1] in index:\n",
    "            for t2 in index[t1[key1]]:\n",
    "                # Concatenate tuples while removing the repeated join attribute from the second tuple\n",
    "                result.append(t1 + t2[1:])  # Skip the join attribute of the second tuple\n",
    "    return result"
   ]
  },
  {
   "cell_type": "code",
   "execution_count": 4,
   "metadata": {},
   "outputs": [
    {
     "name": "stdout",
     "output_type": "stream",
     "text": [
      "Final Result:\n",
      "(1, 2, 5, 7)\n",
      "(3, 4, 6, 8)\n"
     ]
    }
   ],
   "source": [
    "# Relations Initialization\n",
    "R1 = [(1, 2), (3, 4)]\n",
    "R2 = [(2, 5), (4, 6)]\n",
    "R3 = [(5, 7), (6, 8)]\n",
    "\n",
    "# Perform Semijoin Reductions\n",
    "R1_reduced = semijoin(R1, R2, 1, 0)\n",
    "R2_reduced = semijoin(R2, R3, 1, 0)\n",
    "\n",
    "# Perform Joins\n",
    "result1 = join(R1_reduced, R2_reduced, 1, 0)\n",
    "final_result = join(result1, R3, 2, 0)\n",
    "\n",
    "# Strip redundant elements from the join result\n",
    "# This adjustment ensures each tuple has the intended format and no repeated attributes\n",
    "final_result_cleaned = [(a1, a2, a3, a4) for (a1, a2, a3, a4) in final_result]\n",
    "\n",
    "print(\"Final Result:\")\n",
    "for line in final_result_cleaned:\n",
    "    print(line)"
   ]
  },
  {
   "cell_type": "markdown",
   "metadata": {},
   "source": [
    "### Next lets generalize it for k-line queries."
   ]
  },
  {
   "cell_type": "code",
   "execution_count": 5,
   "metadata": {},
   "outputs": [],
   "source": [
    "class K_Line_Joins:\n",
    "    def semijoin(self, relation1, relation2, key1, key2):\n",
    "        \"\"\" Reduce relation1 by performing a semijoin with relation2 on specified keys. \"\"\"\n",
    "        filter_set = {t[key2] for t in relation2}\n",
    "        return [t for t in relation1 if t[key1] in filter_set]\n",
    "\n",
    "    def join(self, relation1, relation2, key1, key2):\n",
    "        \"\"\" Join two relations on specified keys, handling duplicates appropriately. \"\"\"\n",
    "        index = {}\n",
    "\n",
    "        # Create an index for the second relation on the join key\n",
    "        for t in relation2:\n",
    "            if t[key2] in index:\n",
    "                index[t[key2]].append(t)\n",
    "            else:\n",
    "                index[t[key2]] = [t]\n",
    "        # print(index)\n",
    "\n",
    "        # Perform the join\n",
    "        result = []\n",
    "        for t1 in relation1:\n",
    "            if t1[key1] in index:\n",
    "                for t2 in index[t1[key1]]:\n",
    "                    # Concatenate tuples while removing the repeated join attribute from the second tuple\n",
    "                    result.append(t1 + t2[1:])  # Skip the join attribute of the second tuple\n",
    "\n",
    "        return result\n",
    "\n",
    "    def k_line_join(self, relations):\n",
    "        \"\"\" Perform a k-line join on a list of relations using the specified keys. \"\"\"\n",
    "        if not relations:\n",
    "            return []\n",
    "\n",
    "        # Start with the first relation\n",
    "        result = relations[0]\n",
    "\n",
    "        # Perform successive joins\n",
    "        for i in range(1, len(relations)):\n",
    "            result = self.join(result, relations[i], i, 0)\n",
    "            # print(result)\n",
    "\n",
    "        return result\n",
    "    def process_and_join(self, R):\n",
    "        R_reduced = []\n",
    "        for i in range(len(R) - 1):\n",
    "            reduced = self.semijoin(R[i], R[i+1], 1, 0)\n",
    "            R_reduced.append(reduced)\n",
    "        R_reduced.append(R[-1])\n",
    "        final_result = self.k_line_join(R_reduced)\n",
    "        return final_result"
   ]
  },
  {
   "cell_type": "markdown",
   "metadata": {},
   "source": [
    "## Test cases - \n",
    "### 1. Simple Line Join Query"
   ]
  },
  {
   "cell_type": "code",
   "execution_count": 6,
   "metadata": {},
   "outputs": [
    {
     "name": "stdout",
     "output_type": "stream",
     "text": [
      "Final Result:\n",
      "(1, 2, 7, 10)\n",
      "(3, 4, 8, 11)\n",
      "(5, 6, 9, 12)\n"
     ]
    }
   ],
   "source": [
    "R1 = [(1, 2), (3, 4), (5, 6)]\n",
    "R2 = [(2, 7), (4, 8), (6, 9)]\n",
    "R3 = [(7, 10), (8, 11), (9, 12)]\n",
    "R = [\n",
    "    R1, \n",
    "    R2, \n",
    "    R3\n",
    "    # R4, \n",
    "    # R5,\n",
    "    # R6,\n",
    "    # R7,\n",
    "    # R8,\n",
    "    # R9,\n",
    "    # R10\n",
    "]\n",
    "k_line_joiner = K_Line_Joins()\n",
    "final_result = k_line_joiner.process_and_join(R)\n",
    "print(\"Final Result:\")\n",
    "for line in final_result:\n",
    "    print(line)"
   ]
  },
  {
   "cell_type": "markdown",
   "metadata": {},
   "source": [
    "### 3. Line Join Query with Empty Relations"
   ]
  },
  {
   "cell_type": "code",
   "execution_count": 7,
   "metadata": {},
   "outputs": [
    {
     "name": "stdout",
     "output_type": "stream",
     "text": [
      "Final Result:\n"
     ]
    }
   ],
   "source": [
    "R1 = [(1, 2), (3, 4)]\n",
    "R2 = []\n",
    "R3 = [(7, 10), (8, 11)]\n",
    "R = [\n",
    "    R1, \n",
    "    R2, \n",
    "    R3\n",
    "    # R4, \n",
    "    # R5,\n",
    "    # R6,\n",
    "    # R7,\n",
    "    # R8,\n",
    "    # R9,\n",
    "    # R10\n",
    "]\n",
    "k_line_joiner = K_Line_Joins()\n",
    "final_result = k_line_joiner.process_and_join(R)\n",
    "print(\"Final Result:\")\n",
    "for line in final_result:\n",
    "    print(line)"
   ]
  },
  {
   "cell_type": "markdown",
   "metadata": {},
   "source": [
    "### 3. Line Join Query with No Matching Tuples:"
   ]
  },
  {
   "cell_type": "code",
   "execution_count": 8,
   "metadata": {},
   "outputs": [
    {
     "name": "stdout",
     "output_type": "stream",
     "text": [
      "Final Result:\n"
     ]
    }
   ],
   "source": [
    "R1 = [(1, 2), (3, 4)]\n",
    "R2 = [(5, 6), (7, 8)]\n",
    "R3 = [(9, 10), (11, 12)]\n",
    "R = [\n",
    "    R1, \n",
    "    R2, \n",
    "    R3\n",
    "    # R4, \n",
    "    # R5,\n",
    "    # R6,\n",
    "    # R7,\n",
    "    # R8,\n",
    "    # R9,\n",
    "    # R10\n",
    "]\n",
    "k_line_joiner = K_Line_Joins()\n",
    "final_result = k_line_joiner.process_and_join(R)\n",
    "print(\"Final Result:\")\n",
    "for line in final_result:\n",
    "    print(line)"
   ]
  },
  {
   "cell_type": "markdown",
   "metadata": {},
   "source": [
    "### 4. Tuples with negative values"
   ]
  },
  {
   "cell_type": "code",
   "execution_count": 16,
   "metadata": {},
   "outputs": [
    {
     "name": "stdout",
     "output_type": "stream",
     "text": [
      "Final Result:\n",
      "(0, 1, 4, -1)\n",
      "(1, 2, 5, -2)\n",
      "(2, 3, 6, -3)\n"
     ]
    }
   ],
   "source": [
    "R1 = [(0, 1), (1, 2), (2, 3)]\n",
    "R2 = [(1, 4), (2, 5), (3, 6)]\n",
    "R3 = [(4, -1), (5, -2), (6, -3)]\n",
    "\n",
    "R = [\n",
    "    R1, \n",
    "    R2, \n",
    "    R3\n",
    "    # R4, \n",
    "    # R5,\n",
    "    # R6,\n",
    "    # R7,\n",
    "    # R8,\n",
    "    # R9,\n",
    "    # R10\n",
    "]\n",
    "k_line_joiner = K_Line_Joins()\n",
    "final_result = k_line_joiner.process_and_join(R)\n",
    "print(\"Final Result:\")\n",
    "for line in final_result:\n",
    "    print(line)"
   ]
  },
  {
   "cell_type": "markdown",
   "metadata": {},
   "source": [
    "### 5. Line Join Query with Duplicate Tuples:"
   ]
  },
  {
   "cell_type": "code",
   "execution_count": 9,
   "metadata": {},
   "outputs": [
    {
     "name": "stdout",
     "output_type": "stream",
     "text": [
      "Final Result:\n",
      "(1, 2, 5, 7)\n",
      "(1, 2, 5, 7)\n",
      "(1, 2, 5, 7)\n",
      "(1, 2, 5, 7)\n",
      "(3, 4, 6, 8)\n",
      "(1, 2, 5, 7)\n",
      "(1, 2, 5, 7)\n",
      "(1, 2, 5, 7)\n",
      "(1, 2, 5, 7)\n"
     ]
    }
   ],
   "source": [
    "R1 = [(1, 2), (3, 4), (1, 2)]\n",
    "R2 = [(2, 5), (4, 6), (2, 5)]\n",
    "R3 = [(5, 7), (6, 8), (5, 7)]\n",
    "R = [\n",
    "    R1, \n",
    "    R2, \n",
    "    R3\n",
    "    # R4, \n",
    "    # R5,\n",
    "    # R6,\n",
    "    # R7,\n",
    "    # R8,\n",
    "    # R9,\n",
    "    # R10\n",
    "]\n",
    "k_line_joiner = K_Line_Joins()\n",
    "final_result = k_line_joiner.process_and_join(R)\n",
    "print(\"Final Result:\")\n",
    "for line in final_result:\n",
    "    print(line)"
   ]
  },
  {
   "cell_type": "markdown",
   "metadata": {},
   "source": [
    "### Time Complexity Analysis:\n",
    "Our solution consists of two main parts:\n",
    "\n",
    "1. The `semijoin` function:\n",
    "   - This function performs a semijoin reduction by filtering the tuples in `relation1` based on the values in `relation2`.\n",
    "   - The time complexity of this function is O(M + N), where M is the size of `relation1`, and N is the size of `relation2`.\n",
    "\n",
    "2. The `join` function:\n",
    "   - This function performs a hash-based join between two relations.\n",
    "   - The time complexity of building the hash index is O(N), where N is the size of `relation2`.\n",
    "   - The time complexity of the join operation is O(M), where M is the size of `relation1`.\n",
    "   - Therefore, the overall time complexity of the `join` function is O(M + N).\n",
    "\n",
    "3. The `k_line_join` function:\n",
    "   - This function performs successive joins on the list of relations.\n",
    "   - The time complexity of this function is O(N * (k - 1) + OUT), where N is the size of each relation, k is the number of relations, and OUT is the size of the output.\n",
    "\n",
    "4. The `process_and_join` function:\n",
    "   - This function performs semijoin reductions on the relations before calling `k_line_join`.\n",
    "   - The time complexity of the semijoin reductions is O(N * (k - 1)), where N is the size of each relation, and k is the number of relations.\n",
    "   - The time complexity of `k_line_join` is O(N * (k - 1) + OUT), where OUT is the size of the output.\n",
    "   - Therefore, the overall time complexity of `process_and_join` is O(N * (k - 1) + OUT).\n",
    "\n",
    "In the given problem statement, the assumption is that each relation has N tuples, and the domain of each attribute is Z (the set of integer numbers). Additionally, the focus is on k-line join queries for k ≤ 10.\n",
    "\n",
    "Under these assumptions, the time complexity of your solution is O(N * (k - 1) + OUT), which satisfies the requirement of O(N + OUT) time complexity for k-line join queries.\n",
    "\n",
    "### Correctness Analysis:\n",
    "\n",
    "1. The `semijoin` function correctly filters the tuples in `relation1` based on the values in `relation2`.\n",
    "2. The `join` function correctly performs a hash-based join between two relations, handling duplicates appropriately.\n",
    "3. The `k_line_join` function correctly performs successive joins on the list of relations, using the `join` function.\n",
    "4. The `process_and_join` function correctly performs semijoin reductions on the relations before calling `k_line_join`.\n",
    "\n",
    "Our solution handles various test cases, including simple line join queries, queries with empty relations, queries with no matching tuples, tuples with negative values, and queries with duplicate tuples. The output matches the expected results in all these test cases."
   ]
  },
  {
   "cell_type": "code",
   "execution_count": null,
   "metadata": {},
   "outputs": [],
   "source": []
  }
 ],
 "metadata": {
  "kernelspec": {
   "display_name": "base",
   "language": "python",
   "name": "python3"
  },
  "language_info": {
   "codemirror_mode": {
    "name": "ipython",
    "version": 3
   },
   "file_extension": ".py",
   "mimetype": "text/x-python",
   "name": "python",
   "nbconvert_exporter": "python",
   "pygments_lexer": "ipython3",
   "version": "3.11.5"
  }
 },
 "nbformat": 4,
 "nbformat_minor": 2
}
