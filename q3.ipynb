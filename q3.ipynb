{
 "cells": [
  {
   "cell_type": "code",
   "execution_count": 5,
   "metadata": {},
   "outputs": [],
   "source": [
    "class Chain_Joins:\n",
    "    def hash_join(self, R1, R2):\n",
    "        hash_table = {}\n",
    "        # Building hash table for R2\n",
    "        for tup in R2:\n",
    "            key = tup[0]\n",
    "            if key in hash_table:\n",
    "                hash_table[key].append(tup)\n",
    "            else:\n",
    "                hash_table[key] = [tup]\n",
    "\n",
    "        result = []\n",
    "        # Perform the join\n",
    "        for tup in R1:\n",
    "            key = tup[-1]\n",
    "            if key in hash_table:\n",
    "                for r2_tup in hash_table[key]:\n",
    "                    result.append(tup + (r2_tup[-1],))\n",
    "        return result\n",
    "    def chain_join(self, relations):\n",
    "        current_result = relations[0]\n",
    "        for R in relations[1:]:\n",
    "            current_result = self.hash_join(current_result, R)\n",
    "        return current_result"
   ]
  },
  {
   "cell_type": "code",
   "execution_count": 9,
   "metadata": {},
   "outputs": [
    {
     "name": "stdout",
     "output_type": "stream",
     "text": [
      "Final Result:\n",
      "(1, 2, 5, 7, 9, 11)\n",
      "(3, 4, 6, 8, 10, 12)\n"
     ]
    }
   ],
   "source": [
    "R1 = [\n",
    "    (1, 2),\n",
    "    (3, 4)\n",
    "]\n",
    "\n",
    "R2 = [\n",
    "    (2, 5),\n",
    "    (4, 6)\n",
    "]\n",
    "\n",
    "R3 = [\n",
    "    (5, 7),\n",
    "    (6, 8)\n",
    "]\n",
    "\n",
    "R4 = [\n",
    "    (7, 9),\n",
    "    (8, 10)\n",
    "]\n",
    "\n",
    "R5 = [\n",
    "    (9, 11),\n",
    "    (10, 12)\n",
    "]\n",
    "\n",
    "R = [R1,R2, R3, R4, R5]\n",
    "chain_joiner = Chain_Joins()\n",
    "final_result = chain_joiner.chain_join(R)\n",
    "print(\"Final Result:\")\n",
    "for line in final_result:\n",
    "    print(line)"
   ]
  },
  {
   "cell_type": "code",
   "execution_count": 2,
   "metadata": {},
   "outputs": [],
   "source": [
    "def chain_join(relations):\n",
    "    current_result = relations[0]\n",
    "    for R in relations[1:]:\n",
    "        current_result = hash_join(current_result, R)\n",
    "    return current_result"
   ]
  },
  {
   "cell_type": "code",
   "execution_count": 3,
   "metadata": {},
   "outputs": [
    {
     "name": "stdout",
     "output_type": "stream",
     "text": [
      "[(1, 2, 5), (3, 4, 6)]\n"
     ]
    }
   ],
   "source": [
    "R1 = [\n",
    "    (1, 2),\n",
    "    (3, 4)\n",
    "]\n",
    "\n",
    "R2 = [\n",
    "    (2, 5),\n",
    "    (4, 6)\n",
    "]\n",
    "\n",
    "R3 = [\n",
    "    (5, 7),\n",
    "    (6, 8)\n",
    "]\n",
    "\n",
    "R4 = [\n",
    "    (7, 9),\n",
    "    (8, 10)\n",
    "]\n",
    "\n",
    "R5 = [\n",
    "    (9, 11),\n",
    "    (10, 12)\n",
    "]\n",
    "\n",
    "relations = [R1,R2]\n",
    "\n",
    "print(chain_join(relations))"
   ]
  },
  {
   "cell_type": "markdown",
   "metadata": {},
   "source": [
    "**Problem Statement:** Implement a simpler algorithm to evaluate a line join query as follows. Assume q(A1, . . . , Ak+1) : −R1(A1, A2), R2(A2, A3), . . . , Rk(Ak, Ak+1). We first compute R1−2 = R1 I R2 using the implementation from Problem 1. Then you compute R1−3 = R1−2 I R3 and so on. In the end, you compute R1−k = R1−(k−1) I Rk.\n",
    "\n",
    "**Algorithm Implementation:**\n",
    "\n",
    "The algorithm is structured into two main parts:\n",
    "\n",
    "1. **The Join Function:**\n",
    "Purpose: This function performs an inner join between two relations. For each tuple in the first relation, it searches for tuples in the second relation where the join condition is met. The join condition is that the last attribute of a tuple from the first relation matches the first attribute of a tuple from the second relation.\n",
    "Implementation: It iterates over each tuple in the first relation, then iterates over each tuple in the second relation. If the last element of the tuple from the first relation equals the first element of the tuple from the second relation, the tuples are joined. The join excludes the repeated attribute to avoid redundancy in the resulting tuples.\n",
    "\n",
    "2. **Chain Join Function:**\n",
    "Purpose: This function sequentially applies the join operation across a series of relations, starting from the first relation and incrementally incorporating each subsequent relation through the join.\n",
    "Implementation: It initializes the result with the first relation and iteratively joins this result with each subsequent relation in the list. The join operation is performed using the previously defined join function.\n",
    "\n",
    "\n",
    "**Time Complexity Analysis:**\n",
    "\n",
    "1. `hash_join` function:\n",
    "   - Building the hash table for R2 takes O(n) time, where n is the number of tuples in R2.\n",
    "   - Performing the join operation takes O(m) time, where m is the number of tuples in R1. This is because we iterate over each tuple in R1, and for each tuple, we perform a constant-time lookup in the hash table and join operations.\n",
    "   - Therefore, the overall time complexity of the `hash_join` function is O(m + n).\n",
    "\n",
    "2. `chain_join` function:\n",
    "   - The `chain_join` function iterates over the list of relations, and for each relation, it calls the `hash_join` function with the current result and the new relation.\n",
    "   - Assuming there are k relations, and each relation has N tuples, the time complexity of the `chain_join` function is O(k * N^2).\n",
    "\n",
    "\n",
    "**Correctness Explanation**\n",
    "1. Compliance with Join Conditions: Each step of the join ensures that tuples are combined only when they meet the specified join condition (matching attributes as per the chain's requirements). This ensures that no invalid tuple combinations are included in the result.\n",
    "2. Sequential Processing: The chain join operation processes the relations in a sequential manner, preserving the logical order of joins as specified. This maintains the relational model's integrity, where each join builds upon the last, aligning with how SQL and other relational databases process multi-table joins.\n",
    "3. No Data Loss or Duplication: The join excludes the repeated attribute from the second tuple, preventing redundancy in the output. Moreover, since every tuple that meets the join condition is included, no valid data is lost.\n",
    "4. Generality and Flexibility: The implementation is general and flexible, working with any number of relations as long as they are connected by compatible join attributes. This simulates a real-world scenario where different database tables might be joined based on common keys."
   ]
  },
  {
   "cell_type": "markdown",
   "metadata": {},
   "source": []
  }
 ],
 "metadata": {
  "kernelspec": {
   "display_name": "base",
   "language": "python",
   "name": "python3"
  },
  "language_info": {
   "codemirror_mode": {
    "name": "ipython",
    "version": 3
   },
   "file_extension": ".py",
   "mimetype": "text/x-python",
   "name": "python",
   "nbconvert_exporter": "python",
   "pygments_lexer": "ipython3",
   "version": "3.11.5"
  }
 },
 "nbformat": 4,
 "nbformat_minor": 2
}
