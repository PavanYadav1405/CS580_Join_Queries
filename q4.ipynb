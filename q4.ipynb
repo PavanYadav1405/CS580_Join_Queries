{
 "cells": [
  {
   "cell_type": "code",
   "execution_count": 18,
   "metadata": {},
   "outputs": [],
   "source": [
    "import random\n",
    "import cProfile\n",
    "import pstats\n",
    "\n",
    "# Generate the datasets for the relations R1, R2, and R3\n",
    "R1 = [(i, random.randint(1, 5000)) for i in range(1, 101)]\n",
    "R2 = [(random.randint(1, 5000), j) for j in range(1, 101)]\n",
    "R3 = [(l, l) for l in range(1, 101)]\n",
    "R = [R1, R2, R3]\n"
   ]
  },
  {
   "cell_type": "markdown",
   "metadata": {},
   "source": [
    "## Result with Algorithm from Q2"
   ]
  },
  {
   "cell_type": "code",
   "execution_count": 19,
   "metadata": {},
   "outputs": [],
   "source": [
    "class K_Line_Joins:\n",
    "    def semijoin(self, relation1, relation2, key1, key2):\n",
    "        \"\"\" Reduce relation1 by performing a semijoin with relation2 on specified keys. \"\"\"\n",
    "        filter_set = {t[key2] for t in relation2}\n",
    "        return [t for t in relation1 if t[key1] in filter_set]\n",
    "\n",
    "    def join(self, relation1, relation2, key1, key2):\n",
    "        \"\"\" Join two relations on specified keys, handling duplicates appropriately. \"\"\"\n",
    "        index = {}\n",
    "\n",
    "        # Create an index for the second relation on the join key\n",
    "        for t in relation2:\n",
    "            if t[key2] in index:\n",
    "                index[t[key2]].append(t)\n",
    "            else:\n",
    "                index[t[key2]] = [t]\n",
    "        # print(index)\n",
    "\n",
    "        # Perform the join\n",
    "        result = []\n",
    "        for t1 in relation1:\n",
    "            if t1[key1] in index:\n",
    "                for t2 in index[t1[key1]]:\n",
    "                    # Concatenate tuples while removing the repeated join attribute from the second tuple\n",
    "                    result.append(t1 + t2[1:])  # Skip the join attribute of the second tuple\n",
    "\n",
    "        return result\n",
    "\n",
    "    def k_line_join(self, relations):\n",
    "        \"\"\" Perform a k-line join on a list of relations using the specified keys. \"\"\"\n",
    "        if not relations:\n",
    "            return []\n",
    "\n",
    "        # Start with the first relation\n",
    "        result = relations[0]\n",
    "\n",
    "        # Perform successive joins\n",
    "        for i in range(1, len(relations)):\n",
    "            result = self.join(result, relations[i], i, 0)\n",
    "            # print(result)\n",
    "\n",
    "        return result\n",
    "    def process_and_join(self, R):\n",
    "        R_reduced = []\n",
    "        for i in range(len(R) - 1):\n",
    "            reduced = self.semijoin(R[i], R[i+1], 1, 0)\n",
    "            R_reduced.append(reduced)\n",
    "        R_reduced.append(R[-1])\n",
    "        final_result = self.k_line_join(R_reduced)\n",
    "        return final_result"
   ]
  },
  {
   "cell_type": "code",
   "execution_count": 20,
   "metadata": {},
   "outputs": [
    {
     "name": "stdout",
     "output_type": "stream",
     "text": [
      "         28 function calls in 0.000 seconds\n",
      "\n",
      "   Ordered by: cumulative time\n",
      "\n",
      "   ncalls  tottime  percall  cumtime  percall filename:lineno(function)\n",
      "        1    0.000    0.000    0.000    0.000 /var/folders/qs/cgg92xbs5dz6hzkr23vrjgc80000gn/T/ipykernel_19073/2761201456.py:1(run_line_joins)\n",
      "        1    0.000    0.000    0.000    0.000 /var/folders/qs/cgg92xbs5dz6hzkr23vrjgc80000gn/T/ipykernel_19073/738718309.py:43(process_and_join)\n",
      "        1    0.000    0.000    0.000    0.000 /var/folders/qs/cgg92xbs5dz6hzkr23vrjgc80000gn/T/ipykernel_19073/738718309.py:29(k_line_join)\n",
      "        2    0.000    0.000    0.000    0.000 /var/folders/qs/cgg92xbs5dz6hzkr23vrjgc80000gn/T/ipykernel_19073/738718309.py:7(join)\n",
      "        2    0.000    0.000    0.000    0.000 /var/folders/qs/cgg92xbs5dz6hzkr23vrjgc80000gn/T/ipykernel_19073/738718309.py:2(semijoin)\n",
      "        2    0.000    0.000    0.000    0.000 /var/folders/qs/cgg92xbs5dz6hzkr23vrjgc80000gn/T/ipykernel_19073/738718309.py:4(<setcomp>)\n",
      "        2    0.000    0.000    0.000    0.000 /var/folders/qs/cgg92xbs5dz6hzkr23vrjgc80000gn/T/ipykernel_19073/738718309.py:5(<listcomp>)\n",
      "       14    0.000    0.000    0.000    0.000 {method 'append' of 'list' objects}\n",
      "        2    0.000    0.000    0.000    0.000 {built-in method builtins.len}\n",
      "        1    0.000    0.000    0.000    0.000 {method 'disable' of '_lsprof.Profiler' objects}\n",
      "\n",
      "\n"
     ]
    },
    {
     "data": {
      "text/plain": [
       "<pstats.Stats at 0x109003050>"
      ]
     },
     "execution_count": 20,
     "metadata": {},
     "output_type": "execute_result"
    }
   ],
   "source": [
    "def run_line_joins():\n",
    "    k_line_joiner = K_Line_Joins()\n",
    "    final_result2 = k_line_joiner.process_and_join(R)\n",
    "    return final_result2\n",
    "\n",
    "profile = cProfile.Profile()\n",
    "profile.runcall(run_line_joins)\n",
    "stats = pstats.Stats(profile)\n",
    "stats.sort_stats('cumulative').print_stats(10)"
   ]
  },
  {
   "cell_type": "code",
   "execution_count": 21,
   "metadata": {},
   "outputs": [
    {
     "name": "stdout",
     "output_type": "stream",
     "text": [
      "Final Result:\n",
      "(51, 1005, 92, 92)\n",
      "(59, 325, 96, 96)\n",
      "(85, 138, 34, 34)\n",
      "(92, 4346, 88, 88)\n",
      "(98, 87, 20, 20)\n"
     ]
    }
   ],
   "source": [
    "final_result2 = run_line_joins()\n",
    "print(\"Final Result:\")\n",
    "for line in final_result2:\n",
    "    print(line)"
   ]
  },
  {
   "cell_type": "markdown",
   "metadata": {},
   "source": [
    "## Result with Algorithm in Q3"
   ]
  },
  {
   "cell_type": "code",
   "execution_count": 22,
   "metadata": {},
   "outputs": [],
   "source": [
    "class Chain_Joins:\n",
    "    def hash_join(self, R1, R2):\n",
    "        hash_table = {}\n",
    "        # Building hash table for R2\n",
    "        for tup in R2:\n",
    "            key = tup[0]\n",
    "            if key in hash_table:\n",
    "                hash_table[key].append(tup)\n",
    "            else:\n",
    "                hash_table[key] = [tup]\n",
    "\n",
    "        result = []\n",
    "        # Perform the join\n",
    "        for tup in R1:\n",
    "            key = tup[-1]\n",
    "            if key in hash_table:\n",
    "                for r2_tup in hash_table[key]:\n",
    "                    result.append(tup + (r2_tup[-1],))\n",
    "        return result\n",
    "    def chain_join(self, relations):\n",
    "        current_result = relations[0]\n",
    "        for R in relations[1:]:\n",
    "            current_result = self.hash_join(current_result, R)\n",
    "        return current_result"
   ]
  },
  {
   "cell_type": "code",
   "execution_count": 23,
   "metadata": {},
   "outputs": [
    {
     "name": "stdout",
     "output_type": "stream",
     "text": [
      "         16 function calls in 0.000 seconds\n",
      "\n",
      "   Ordered by: cumulative time\n",
      "\n",
      "   ncalls  tottime  percall  cumtime  percall filename:lineno(function)\n",
      "        1    0.000    0.000    0.000    0.000 /var/folders/qs/cgg92xbs5dz6hzkr23vrjgc80000gn/T/ipykernel_19073/292647011.py:1(run_chain_joins)\n",
      "        1    0.000    0.000    0.000    0.000 /var/folders/qs/cgg92xbs5dz6hzkr23vrjgc80000gn/T/ipykernel_19073/2912444394.py:20(chain_join)\n",
      "        2    0.000    0.000    0.000    0.000 /var/folders/qs/cgg92xbs5dz6hzkr23vrjgc80000gn/T/ipykernel_19073/2912444394.py:2(hash_join)\n",
      "       11    0.000    0.000    0.000    0.000 {method 'append' of 'list' objects}\n",
      "        1    0.000    0.000    0.000    0.000 {method 'disable' of '_lsprof.Profiler' objects}\n",
      "\n",
      "\n"
     ]
    },
    {
     "data": {
      "text/plain": [
       "<pstats.Stats at 0x107e8c8d0>"
      ]
     },
     "execution_count": 23,
     "metadata": {},
     "output_type": "execute_result"
    }
   ],
   "source": [
    "def run_chain_joins():\n",
    "    chain_joiner = Chain_Joins()\n",
    "    final_result3 = chain_joiner.chain_join(R)\n",
    "    return final_result3\n",
    "\n",
    "profile = cProfile.Profile()\n",
    "profile.runcall(run_chain_joins)\n",
    "stats = pstats.Stats(profile)\n",
    "stats.sort_stats('cumulative').print_stats(10)"
   ]
  },
  {
   "cell_type": "code",
   "execution_count": 24,
   "metadata": {},
   "outputs": [
    {
     "name": "stdout",
     "output_type": "stream",
     "text": [
      "Final Result:\n",
      "(51, 1005, 92, 92)\n",
      "(59, 325, 96, 96)\n",
      "(85, 138, 34, 34)\n",
      "(92, 4346, 88, 88)\n",
      "(98, 87, 20, 20)\n"
     ]
    }
   ],
   "source": [
    "final_result3 = run_chain_joins()\n",
    "print(\"Final Result:\")\n",
    "for line in final_result3:\n",
    "    print(line)"
   ]
  },
  {
   "cell_type": "code",
   "execution_count": 25,
   "metadata": {},
   "outputs": [
    {
     "name": "stdout",
     "output_type": "stream",
     "text": [
      "The results are the same.\n"
     ]
    }
   ],
   "source": [
    "if final_result2 == final_result3:\n",
    "    print(\"The results are the same.\")\n",
    "else:\n",
    "    print(\"The results are not the same.\")\n"
   ]
  },
  {
   "cell_type": "markdown",
   "metadata": {},
   "source": [
    " the algorithm from Problem 2 (K_Line_Joins) has a better time complexity of O(n + OUT), while the algorithm from Problem 3 (Chain_Joins) has a higher time complexity of O(k * n^2), where k is the number of relations."
   ]
  }
 ],
 "metadata": {
  "kernelspec": {
   "display_name": "base",
   "language": "python",
   "name": "python3"
  },
  "language_info": {
   "codemirror_mode": {
    "name": "ipython",
    "version": 3
   },
   "file_extension": ".py",
   "mimetype": "text/x-python",
   "name": "python",
   "nbconvert_exporter": "python",
   "pygments_lexer": "ipython3",
   "version": "3.11.5"
  }
 },
 "nbformat": 4,
 "nbformat_minor": 2
}
