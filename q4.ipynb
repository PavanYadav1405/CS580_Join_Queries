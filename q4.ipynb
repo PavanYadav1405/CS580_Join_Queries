{
 "cells": [
  {
   "cell_type": "code",
   "execution_count": 46,
   "metadata": {},
   "outputs": [],
   "source": [
    "import random\n",
    "\n",
    "# Generate the datasets for the relations R1, R2, and R3\n",
    "R1 = [(i, random.randint(1, 5000)) for i in range(1, 101)]\n",
    "R2 = [(random.randint(1, 5000), j) for j in range(1, 101)]\n",
    "R3 = [(l, l) for l in range(1, 101)]\n",
    "R = [R1, R2, R3]\n"
   ]
  },
  {
   "cell_type": "markdown",
   "metadata": {},
   "source": [
    "## Result with Algorithm from Q2"
   ]
  },
  {
   "cell_type": "code",
   "execution_count": 47,
   "metadata": {},
   "outputs": [],
   "source": [
    "class K_Line_Joins:\n",
    "    def semijoin(self, relation1, relation2, key1, key2):\n",
    "        \"\"\" Reduce relation1 by performing a semijoin with relation2 on specified keys. \"\"\"\n",
    "        filter_set = {t[key2] for t in relation2}\n",
    "        return [t for t in relation1 if t[key1] in filter_set]\n",
    "\n",
    "    def join(self, relation1, relation2, key1, key2):\n",
    "        \"\"\" Join two relations on specified keys, handling duplicates appropriately. \"\"\"\n",
    "        index = {}\n",
    "\n",
    "        # Create an index for the second relation on the join key\n",
    "        for t in relation2:\n",
    "            if t[key2] in index:\n",
    "                index[t[key2]].append(t)\n",
    "            else:\n",
    "                index[t[key2]] = [t]\n",
    "        # print(index)\n",
    "\n",
    "        # Perform the join\n",
    "        result = []\n",
    "        for t1 in relation1:\n",
    "            if t1[key1] in index:\n",
    "                for t2 in index[t1[key1]]:\n",
    "                    # Concatenate tuples while removing the repeated join attribute from the second tuple\n",
    "                    result.append(t1 + t2[1:])  # Skip the join attribute of the second tuple\n",
    "\n",
    "        return result\n",
    "\n",
    "    def k_line_join(self, relations):\n",
    "        \"\"\" Perform a k-line join on a list of relations using the specified keys. \"\"\"\n",
    "        if not relations:\n",
    "            return []\n",
    "\n",
    "        # Start with the first relation\n",
    "        result = relations[0]\n",
    "\n",
    "        # Perform successive joins\n",
    "        for i in range(1, len(relations)):\n",
    "            result = self.join(result, relations[i], i, 0)\n",
    "            # print(result)\n",
    "\n",
    "        return result\n",
    "    def process_and_join(self, R):\n",
    "        R_reduced = []\n",
    "        for i in range(len(R) - 1):\n",
    "            reduced = self.semijoin(R[i], R[i+1], 1, 0)\n",
    "            R_reduced.append(reduced)\n",
    "        R_reduced.append(R[-1])\n",
    "        final_result = self.k_line_join(R_reduced)\n",
    "        return final_result"
   ]
  },
  {
   "cell_type": "code",
   "execution_count": 48,
   "metadata": {},
   "outputs": [
    {
     "name": "stdout",
     "output_type": "stream",
     "text": [
      "Final Result:\n",
      "(29, 2513, 51, 51)\n",
      "(54, 1092, 63, 63)\n",
      "(63, 2323, 52, 52)\n",
      "(78, 220, 20, 20)\n"
     ]
    }
   ],
   "source": [
    "k_line_joiner = K_Line_Joins()\n",
    "final_result2 = k_line_joiner.process_and_join(R)\n",
    "print(\"Final Result:\")\n",
    "for line in final_result2:\n",
    "    print(line)"
   ]
  },
  {
   "cell_type": "markdown",
   "metadata": {},
   "source": [
    "## Result with Algorithm in Q3"
   ]
  },
  {
   "cell_type": "code",
   "execution_count": 49,
   "metadata": {},
   "outputs": [],
   "source": [
    "class Chain_Joins:\n",
    "    def hash_join(self, R1, R2):\n",
    "        hash_table = {}\n",
    "        # Building hash table for R2\n",
    "        for tup in R2:\n",
    "            key = tup[0]\n",
    "            if key in hash_table:\n",
    "                hash_table[key].append(tup)\n",
    "            else:\n",
    "                hash_table[key] = [tup]\n",
    "\n",
    "        result = []\n",
    "        # Perform the join\n",
    "        for tup in R1:\n",
    "            key = tup[-1]\n",
    "            if key in hash_table:\n",
    "                for r2_tup in hash_table[key]:\n",
    "                    result.append(tup + (r2_tup[-1],))\n",
    "        return result\n",
    "    def chain_join(self, relations):\n",
    "        current_result = relations[0]\n",
    "        for R in relations[1:]:\n",
    "            current_result = self.hash_join(current_result, R)\n",
    "        return current_result"
   ]
  },
  {
   "cell_type": "code",
   "execution_count": 50,
   "metadata": {},
   "outputs": [
    {
     "name": "stdout",
     "output_type": "stream",
     "text": [
      "Final Result:\n",
      "(29, 2513, 51, 51)\n",
      "(54, 1092, 63, 63)\n",
      "(63, 2323, 52, 52)\n",
      "(78, 220, 20, 20)\n"
     ]
    }
   ],
   "source": [
    "chain_joiner = Chain_Joins()\n",
    "final_result3 = chain_joiner.chain_join(R)\n",
    "print(\"Final Result:\")\n",
    "for line in final_result3:\n",
    "    print(line)"
   ]
  },
  {
   "cell_type": "code",
   "execution_count": 51,
   "metadata": {},
   "outputs": [
    {
     "name": "stdout",
     "output_type": "stream",
     "text": [
      "The results are the same.\n"
     ]
    }
   ],
   "source": [
    "if final_result2 == final_result3:\n",
    "    print(\"The results are the same.\")\n",
    "else:\n",
    "    print(\"The results are not the same.\")\n"
   ]
  },
  {
   "cell_type": "markdown",
   "metadata": {},
   "source": [
    " the algorithm from Problem 2 (K_Line_Joins) has a better time complexity of O(n + OUT), while the algorithm from Problem 3 (Chain_Joins) has a higher time complexity of O(k * n^2), where k is the number of relations."
   ]
  },
  {
   "cell_type": "code",
   "execution_count": null,
   "metadata": {},
   "outputs": [],
   "source": []
  }
 ],
 "metadata": {
  "kernelspec": {
   "display_name": "base",
   "language": "python",
   "name": "python3"
  },
  "language_info": {
   "codemirror_mode": {
    "name": "ipython",
    "version": 3
   },
   "file_extension": ".py",
   "mimetype": "text/x-python",
   "name": "python",
   "nbconvert_exporter": "python",
   "pygments_lexer": "ipython3",
   "version": "3.11.5"
  }
 },
 "nbformat": 4,
 "nbformat_minor": 2
}
